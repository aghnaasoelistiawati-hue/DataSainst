{
 "cells": [
  {
   "cell_type": "code",
   "execution_count": null,
   "id": "4b753148",
   "metadata": {},
   "outputs": [
    {
     "name": "stdout",
     "output_type": "stream",
     "text": [
      "Data Asli:\n",
      "0    160\n",
      "1    165\n",
      "2    170\n",
      "3    168\n",
      "4    172\n",
      "5    166\n",
      "6    174\n",
      "dtype: int64\n"
     ]
    }
   ],
   "source": [
    "import pandas as pd\n",
    "\n",
    "data_tinggi = [160, 165, 170, 168, 172, 166, 174]\n",
    "\n",
    "s_tinggi = pd.Series(data_tinggi)\n",
    "\n",
    "print(\"Data Asli:\")\n",
    "print(s_tinggi) \n",
    "\n",
    "rata_rata = s_tinggi.mean()\n",
    "paling_tinggi = s_tinggi.max()\n",
    "paling_pendek = s_tinggi.min()\n",
    "std_deviasi = s_tinggi.std()\n",
    "\n",
    "median = s_tinggi.median()"
   ]
  }
 ],
 "metadata": {
  "kernelspec": {
   "display_name": "Python 3",
   "language": "python",
   "name": "python3"
  },
  "language_info": {
   "codemirror_mode": {
    "name": "ipython",
    "version": 3
   },
   "file_extension": ".py",
   "mimetype": "text/x-python",
   "name": "python",
   "nbconvert_exporter": "python",
   "pygments_lexer": "ipython3",
   "version": "3.14.0"
  }
 },
 "nbformat": 4,
 "nbformat_minor": 5
}
