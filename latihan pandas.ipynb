{
 "cells": [
  {
   "cell_type": "code",
   "execution_count": null,
   "id": "74a5a303",
   "metadata": {},
   "outputs": [],
   "source": [
    "import pandas as pd\n",
    "\n",
    "data_tinggi = [160, 165, 170, 168, 172, 166, 174]\n",
    "\n",
    "s_tinggi = pd.Series(data_tinggi)\n",
    "\n",
    "print(\"Data Asli:\")\n",
    "print(s_tinggi)\n",
    "\n",
    "rata_rata = s_tinggi.mean()\n",
    "paling_tinggi = s_tinggi.max()\n",
    "paling_pendek = s_tinggi.min()\n",
    "std_deviasi = s_tinggi.std()\n",
    "\n",
    "median = s_tinggi.median()"
   ]
  }
 ],
 "metadata": {
  "kernelspec": {
   "display_name": "Python 3",
   "language": "python",
   "name": "python3"
  },
  "language_info": {
   "name": "python",
   "version": "3.14.0"
  }
 },
 "nbformat": 4,
 "nbformat_minor": 5
}
