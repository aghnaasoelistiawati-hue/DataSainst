{
 "cells": [
  {
   "cell_type": "code",
   "execution_count": 1,
   "id": "bc0bf436-553e-4547-bb74-f0d828efd1b4",
   "metadata": {},
   "outputs": [
    {
     "name": "stdout",
     "output_type": "stream",
     "text": [
      "Halo nama Aghna soelistiawati \n"
     ]
    }
   ],
   "source": [
    "print(\"Halo nama Aghna soelistiawati \")"
   ]
  },
  {
   "cell_type": "code",
   "execution_count": 2,
   "id": "ff2c888d-55dd-4fd7-8e14-02931e8a5a63",
   "metadata": {},
   "outputs": [
    {
     "name": "stdout",
     "output_type": "stream",
     "text": [
      "Hello World\n"
     ]
    }
   ],
   "source": [
    "    print(\"Hello World\")"
   ]
  },
  {
   "cell_type": "code",
   "execution_count": null,
   "id": "da6131c2-a965-43d2-9cb2-10fac22980fd",
   "metadata": {},
   "outputs": [],
   "source": []
  }
 ],
 "metadata": {
  "kernelspec": {
   "display_name": "Python 3 (ipykernel)",
   "language": "python",
   "name": "python3"
  },
  "language_info": {
   "codemirror_mode": {
    "name": "ipython",
    "version": 3
   },
   "file_extension": ".py",
   "mimetype": "text/x-python",
   "name": "python",
   "nbconvert_exporter": "python",
   "pygments_lexer": "ipython3",
   "version": "3.14.0"
  }
 },
 "nbformat": 4,
 "nbformat_minor": 5
}
