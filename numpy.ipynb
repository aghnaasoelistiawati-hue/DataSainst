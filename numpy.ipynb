{
 "cells": [
  {
   "cell_type": "code",
   "execution_count": 9,
   "id": "2f66f898",
   "metadata": {},
   "outputs": [
    {
     "name": "stdout",
     "output_type": "stream",
     "text": [
      "pertambahan: aa dan ab [15  7  8 14 51]\n",
      "perkurangan: aa dan ab [ 5 -1  2 10 49]\n",
      "perkalian: aa dan ab [50 12 15 24 50]\n",
      "pembagian: aa dan ab [ 2.          0.75        1.66666667  6.         50.        ]\n",
      "100\n",
      "2\n",
      "1\n",
      "Nilai maksimal dari a:  50\n",
      "Nilai manimal dari a:  3\n",
      "Nilai rata-rata dari a:  16.0\n"
     ]
    }
   ],
   "source": [
    "import numpy as np\n",
    "\n",
    "a = [10,3,5,12,50] # rata rata --> (10+3+5+12+12+50)/5 = 16\n",
    "b = [5,4,3,2,1]\n",
    "\n",
    "aa = np.array(a)\n",
    "ab = np.array(b)\n",
    "\n",
    "# catatan atau komentar yang tidak dieksekusi oleh pyhton\n",
    "\"\"\"\n",
    "operator artitmatika :\n",
    "+\n",
    "-\n",
    "**\n",
    "// = modus\n",
    "% = sisa hasil bagi\n",
    "\"\"\"\n",
    "\n",
    "print(\"pertambahan: aa dan ab\", aa + ab)\n",
    "print(\"perkurangan: aa dan ab\", aa - ab)\n",
    "print(\"perkalian: aa dan ab\", aa * ab)\n",
    "print(\"pembagian: aa dan ab\", aa / ab)\n",
    "\n",
    "print (10 ** 2)\n",
    "print (5 // 2) # 2 * 2 = 4\n",
    "print (5 % 2)\n",
    "\n",
    "print (\"Nilai maksimal dari a: \", np.max(a) )\n",
    "print (\"Nilai manimal dari a: \", np.min(a) )\n",
    "print (\"Nilai rata-rata dari a: \", np.mean(a) )\n",
    "\n"
   ]
  }
 ],
 "metadata": {
  "kernelspec": {
   "display_name": "Python 3",
   "language": "python",
   "name": "python3"
  },
  "language_info": {
   "codemirror_mode": {
    "name": "ipython",
    "version": 3
   },
   "file_extension": ".py",
   "mimetype": "text/x-python",
   "name": "python",
   "nbconvert_exporter": "python",
   "pygments_lexer": "ipython3",
   "version": "3.14.0"
  }
 },
 "nbformat": 4,
 "nbformat_minor": 5
}
